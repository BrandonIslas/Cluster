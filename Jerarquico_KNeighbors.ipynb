{
 "cells": [
  {
   "cell_type": "markdown",
   "metadata": {},
   "source": [
    "# Cluster Jerarquico  \"K- nearest neighbors\""
   ]
  },
  {
   "cell_type": "markdown",
   "metadata": {},
   "source": [
    "### Se utilizara el dataframe London Bike sharing, el cual nos indica el numero de bicicletas que se comparten en cierta temporada del año, contenplando la velocidad del viento, indice de humedad, la temperatura y la sensacion termica, el dataset se obtuvo de: https://www.kaggle.com/hmavrodiev/london-bike-sharing-dataset"
   ]
  },
  {
   "cell_type": "markdown",
   "metadata": {},
   "source": [
    "Librerias utilizadas"
   ]
  },
  {
   "cell_type": "code",
   "execution_count": 205,
   "metadata": {},
   "outputs": [],
   "source": [
    "import pandas as pd\n",
    "import numpy as np\n",
    "import matplotlib.pyplot as plt\n",
    "import seaborn as sns"
   ]
  },
  {
   "cell_type": "markdown",
   "metadata": {},
   "source": [
    "Lectura de dataset"
   ]
  },
  {
   "cell_type": "code",
   "execution_count": 206,
   "metadata": {},
   "outputs": [
    {
     "data": {
      "text/html": [
       "<div>\n",
       "<style scoped>\n",
       "    .dataframe tbody tr th:only-of-type {\n",
       "        vertical-align: middle;\n",
       "    }\n",
       "\n",
       "    .dataframe tbody tr th {\n",
       "        vertical-align: top;\n",
       "    }\n",
       "\n",
       "    .dataframe thead th {\n",
       "        text-align: right;\n",
       "    }\n",
       "</style>\n",
       "<table border=\"1\" class=\"dataframe\">\n",
       "  <thead>\n",
       "    <tr style=\"text-align: right;\">\n",
       "      <th></th>\n",
       "      <th>timestamp</th>\n",
       "      <th>cnt</th>\n",
       "      <th>t1</th>\n",
       "      <th>t2</th>\n",
       "      <th>hum</th>\n",
       "      <th>wind_speed</th>\n",
       "      <th>weather_code</th>\n",
       "      <th>is_holiday</th>\n",
       "      <th>is_weekend</th>\n",
       "      <th>season</th>\n",
       "    </tr>\n",
       "  </thead>\n",
       "  <tbody>\n",
       "    <tr>\n",
       "      <th>0</th>\n",
       "      <td>2015-01-04 00:00:00</td>\n",
       "      <td>182</td>\n",
       "      <td>3.0</td>\n",
       "      <td>2.0</td>\n",
       "      <td>93.0</td>\n",
       "      <td>6.0</td>\n",
       "      <td>3.0</td>\n",
       "      <td>0.0</td>\n",
       "      <td>1.0</td>\n",
       "      <td>3.0</td>\n",
       "    </tr>\n",
       "    <tr>\n",
       "      <th>1</th>\n",
       "      <td>2015-01-04 01:00:00</td>\n",
       "      <td>138</td>\n",
       "      <td>3.0</td>\n",
       "      <td>2.5</td>\n",
       "      <td>93.0</td>\n",
       "      <td>5.0</td>\n",
       "      <td>1.0</td>\n",
       "      <td>0.0</td>\n",
       "      <td>1.0</td>\n",
       "      <td>3.0</td>\n",
       "    </tr>\n",
       "    <tr>\n",
       "      <th>2</th>\n",
       "      <td>2015-01-04 02:00:00</td>\n",
       "      <td>134</td>\n",
       "      <td>2.5</td>\n",
       "      <td>2.5</td>\n",
       "      <td>96.5</td>\n",
       "      <td>0.0</td>\n",
       "      <td>1.0</td>\n",
       "      <td>0.0</td>\n",
       "      <td>1.0</td>\n",
       "      <td>3.0</td>\n",
       "    </tr>\n",
       "    <tr>\n",
       "      <th>3</th>\n",
       "      <td>2015-01-04 03:00:00</td>\n",
       "      <td>72</td>\n",
       "      <td>2.0</td>\n",
       "      <td>2.0</td>\n",
       "      <td>100.0</td>\n",
       "      <td>0.0</td>\n",
       "      <td>1.0</td>\n",
       "      <td>0.0</td>\n",
       "      <td>1.0</td>\n",
       "      <td>3.0</td>\n",
       "    </tr>\n",
       "    <tr>\n",
       "      <th>4</th>\n",
       "      <td>2015-01-04 04:00:00</td>\n",
       "      <td>47</td>\n",
       "      <td>2.0</td>\n",
       "      <td>0.0</td>\n",
       "      <td>93.0</td>\n",
       "      <td>6.5</td>\n",
       "      <td>1.0</td>\n",
       "      <td>0.0</td>\n",
       "      <td>1.0</td>\n",
       "      <td>3.0</td>\n",
       "    </tr>\n",
       "    <tr>\n",
       "      <th>...</th>\n",
       "      <td>...</td>\n",
       "      <td>...</td>\n",
       "      <td>...</td>\n",
       "      <td>...</td>\n",
       "      <td>...</td>\n",
       "      <td>...</td>\n",
       "      <td>...</td>\n",
       "      <td>...</td>\n",
       "      <td>...</td>\n",
       "      <td>...</td>\n",
       "    </tr>\n",
       "    <tr>\n",
       "      <th>17409</th>\n",
       "      <td>2017-01-03 19:00:00</td>\n",
       "      <td>1042</td>\n",
       "      <td>5.0</td>\n",
       "      <td>1.0</td>\n",
       "      <td>81.0</td>\n",
       "      <td>19.0</td>\n",
       "      <td>3.0</td>\n",
       "      <td>0.0</td>\n",
       "      <td>0.0</td>\n",
       "      <td>3.0</td>\n",
       "    </tr>\n",
       "    <tr>\n",
       "      <th>17410</th>\n",
       "      <td>2017-01-03 20:00:00</td>\n",
       "      <td>541</td>\n",
       "      <td>5.0</td>\n",
       "      <td>1.0</td>\n",
       "      <td>81.0</td>\n",
       "      <td>21.0</td>\n",
       "      <td>4.0</td>\n",
       "      <td>0.0</td>\n",
       "      <td>0.0</td>\n",
       "      <td>3.0</td>\n",
       "    </tr>\n",
       "    <tr>\n",
       "      <th>17411</th>\n",
       "      <td>2017-01-03 21:00:00</td>\n",
       "      <td>337</td>\n",
       "      <td>5.5</td>\n",
       "      <td>1.5</td>\n",
       "      <td>78.5</td>\n",
       "      <td>24.0</td>\n",
       "      <td>4.0</td>\n",
       "      <td>0.0</td>\n",
       "      <td>0.0</td>\n",
       "      <td>3.0</td>\n",
       "    </tr>\n",
       "    <tr>\n",
       "      <th>17412</th>\n",
       "      <td>2017-01-03 22:00:00</td>\n",
       "      <td>224</td>\n",
       "      <td>5.5</td>\n",
       "      <td>1.5</td>\n",
       "      <td>76.0</td>\n",
       "      <td>23.0</td>\n",
       "      <td>4.0</td>\n",
       "      <td>0.0</td>\n",
       "      <td>0.0</td>\n",
       "      <td>3.0</td>\n",
       "    </tr>\n",
       "    <tr>\n",
       "      <th>17413</th>\n",
       "      <td>2017-01-03 23:00:00</td>\n",
       "      <td>139</td>\n",
       "      <td>5.0</td>\n",
       "      <td>1.0</td>\n",
       "      <td>76.0</td>\n",
       "      <td>22.0</td>\n",
       "      <td>2.0</td>\n",
       "      <td>0.0</td>\n",
       "      <td>0.0</td>\n",
       "      <td>3.0</td>\n",
       "    </tr>\n",
       "  </tbody>\n",
       "</table>\n",
       "<p>17414 rows × 10 columns</p>\n",
       "</div>"
      ],
      "text/plain": [
       "                 timestamp   cnt   t1   t2    hum  wind_speed  weather_code  \\\n",
       "0      2015-01-04 00:00:00   182  3.0  2.0   93.0         6.0           3.0   \n",
       "1      2015-01-04 01:00:00   138  3.0  2.5   93.0         5.0           1.0   \n",
       "2      2015-01-04 02:00:00   134  2.5  2.5   96.5         0.0           1.0   \n",
       "3      2015-01-04 03:00:00    72  2.0  2.0  100.0         0.0           1.0   \n",
       "4      2015-01-04 04:00:00    47  2.0  0.0   93.0         6.5           1.0   \n",
       "...                    ...   ...  ...  ...    ...         ...           ...   \n",
       "17409  2017-01-03 19:00:00  1042  5.0  1.0   81.0        19.0           3.0   \n",
       "17410  2017-01-03 20:00:00   541  5.0  1.0   81.0        21.0           4.0   \n",
       "17411  2017-01-03 21:00:00   337  5.5  1.5   78.5        24.0           4.0   \n",
       "17412  2017-01-03 22:00:00   224  5.5  1.5   76.0        23.0           4.0   \n",
       "17413  2017-01-03 23:00:00   139  5.0  1.0   76.0        22.0           2.0   \n",
       "\n",
       "       is_holiday  is_weekend  season  \n",
       "0             0.0         1.0     3.0  \n",
       "1             0.0         1.0     3.0  \n",
       "2             0.0         1.0     3.0  \n",
       "3             0.0         1.0     3.0  \n",
       "4             0.0         1.0     3.0  \n",
       "...           ...         ...     ...  \n",
       "17409         0.0         0.0     3.0  \n",
       "17410         0.0         0.0     3.0  \n",
       "17411         0.0         0.0     3.0  \n",
       "17412         0.0         0.0     3.0  \n",
       "17413         0.0         0.0     3.0  \n",
       "\n",
       "[17414 rows x 10 columns]"
      ]
     },
     "execution_count": 206,
     "metadata": {},
     "output_type": "execute_result"
    }
   ],
   "source": [
    "dataframe= pd.read_csv('london_bicis.csv')\n",
    "dataframe"
   ]
  },
  {
   "cell_type": "markdown",
   "metadata": {},
   "source": [
    "Previsualizacion de los datos contemplando la variable temperatura, indice de humedad y la estacion del año"
   ]
  },
  {
   "cell_type": "code",
   "execution_count": 210,
   "metadata": {},
   "outputs": [
    {
     "data": {
      "text/plain": [
       "<matplotlib.axes._subplots.AxesSubplot at 0x1ce717b2c10>"
      ]
     },
     "execution_count": 210,
     "metadata": {},
     "output_type": "execute_result"
    },
    {
     "data": {
      "image/png": "[encoded data removed]",
      "text/plain": [
       "<Figure size 432x288 with 2 Axes>"
      ]
     },
     "metadata": {},
     "output_type": "display_data"
    }
   ],
   "source": [
    "plt.style.use('dark_background')\n",
    "dataframe.plot.scatter(x='t1',y='hum',c='season' , cmap='magma')"
   ]
  },
  {
   "cell_type": "markdown",
   "metadata": {},
   "source": [
    "Tratamiento de datos categoricos"
   ]
  },
  {
   "cell_type": "code",
   "execution_count": 186,
   "metadata": {},
   "outputs": [],
   "source": [
    "#Datos weather_code\n",
    "dataframe.loc[dataframe['weather_code'] == 1, 'weather_code'] = 'Clear'\n",
    "dataframe.loc[dataframe['weather_code'] == 2, 'weather_code'] = 'Few clouds'\n",
    "dataframe.loc[dataframe['weather_code'] == 3, 'weather_code'] = 'Broken clouds'\n",
    "dataframe.loc[dataframe['weather_code'] == 4, 'weather_code'] = 'Cloudy'\n",
    "dataframe.loc[dataframe['weather_code'] == 10, 'weather_code'] = 'Rain with thunderstorm'\n",
    "dataframe.loc[dataframe['weather_code'] == 26, 'weather_code'] = 'Snowfall'\n",
    "dataframe.loc[dataframe['weather_code'] == 94, 'weather_code'] = 'Freezing Fog'\n",
    "#Datos season\n",
    "dataframe.loc[dataframe['season'] == 0, 'season'] = 'Spring'\n",
    "dataframe.loc[dataframe['season'] == 1, 'season'] = 'Summer'\n",
    "dataframe.loc[dataframe['season'] == 2, 'season'] = 'Fall'\n",
    "dataframe.loc[dataframe['season'] == 3, 'season'] = 'Winter'"
   ]
  },
  {
   "cell_type": "markdown",
   "metadata": {},
   "source": [
    "Verificacion de valores nulos"
   ]
  },
  {
   "cell_type": "code",
   "execution_count": 187,
   "metadata": {},
   "outputs": [
    {
     "data": {
      "text/plain": [
       "timestamp       0\n",
       "cnt             0\n",
       "t1              0\n",
       "t2              0\n",
       "hum             0\n",
       "wind_speed      0\n",
       "weather_code    0\n",
       "is_holiday      0\n",
       "is_weekend      0\n",
       "season          0\n",
       "dtype: int64"
      ]
     },
     "execution_count": 187,
     "metadata": {},
     "output_type": "execute_result"
    }
   ],
   "source": [
    "dataframe.isnull().sum()"
   ]
  },
  {
   "cell_type": "markdown",
   "metadata": {},
   "source": [
    "Selección de columnas objetivo"
   ]
  },
  {
   "cell_type": "code",
   "execution_count": 188,
   "metadata": {},
   "outputs": [
    {
     "data": {
      "text/html": [
       "<div>\n",
       "<style scoped>\n",
       "    .dataframe tbody tr th:only-of-type {\n",
       "        vertical-align: middle;\n",
       "    }\n",
       "\n",
       "    .dataframe tbody tr th {\n",
       "        vertical-align: top;\n",
       "    }\n",
       "\n",
       "    .dataframe thead th {\n",
       "        text-align: right;\n",
       "    }\n",
       "</style>\n",
       "<table border=\"1\" class=\"dataframe\">\n",
       "  <thead>\n",
       "    <tr style=\"text-align: right;\">\n",
       "      <th></th>\n",
       "      <th>cnt</th>\n",
       "      <th>t1</th>\n",
       "      <th>t2</th>\n",
       "      <th>hum</th>\n",
       "      <th>wind_speed</th>\n",
       "      <th>is_holiday</th>\n",
       "      <th>is_weekend</th>\n",
       "      <th>season</th>\n",
       "    </tr>\n",
       "  </thead>\n",
       "  <tbody>\n",
       "    <tr>\n",
       "      <th>0</th>\n",
       "      <td>182</td>\n",
       "      <td>3.0</td>\n",
       "      <td>2.0</td>\n",
       "      <td>93.0</td>\n",
       "      <td>6.0</td>\n",
       "      <td>0.0</td>\n",
       "      <td>1.0</td>\n",
       "      <td>Winter</td>\n",
       "    </tr>\n",
       "    <tr>\n",
       "      <th>1</th>\n",
       "      <td>138</td>\n",
       "      <td>3.0</td>\n",
       "      <td>2.5</td>\n",
       "      <td>93.0</td>\n",
       "      <td>5.0</td>\n",
       "      <td>0.0</td>\n",
       "      <td>1.0</td>\n",
       "      <td>Winter</td>\n",
       "    </tr>\n",
       "    <tr>\n",
       "      <th>2</th>\n",
       "      <td>134</td>\n",
       "      <td>2.5</td>\n",
       "      <td>2.5</td>\n",
       "      <td>96.5</td>\n",
       "      <td>0.0</td>\n",
       "      <td>0.0</td>\n",
       "      <td>1.0</td>\n",
       "      <td>Winter</td>\n",
       "    </tr>\n",
       "    <tr>\n",
       "      <th>3</th>\n",
       "      <td>72</td>\n",
       "      <td>2.0</td>\n",
       "      <td>2.0</td>\n",
       "      <td>100.0</td>\n",
       "      <td>0.0</td>\n",
       "      <td>0.0</td>\n",
       "      <td>1.0</td>\n",
       "      <td>Winter</td>\n",
       "    </tr>\n",
       "    <tr>\n",
       "      <th>4</th>\n",
       "      <td>47</td>\n",
       "      <td>2.0</td>\n",
       "      <td>0.0</td>\n",
       "      <td>93.0</td>\n",
       "      <td>6.5</td>\n",
       "      <td>0.0</td>\n",
       "      <td>1.0</td>\n",
       "      <td>Winter</td>\n",
       "    </tr>\n",
       "    <tr>\n",
       "      <th>...</th>\n",
       "      <td>...</td>\n",
       "      <td>...</td>\n",
       "      <td>...</td>\n",
       "      <td>...</td>\n",
       "      <td>...</td>\n",
       "      <td>...</td>\n",
       "      <td>...</td>\n",
       "      <td>...</td>\n",
       "    </tr>\n",
       "    <tr>\n",
       "      <th>17409</th>\n",
       "      <td>1042</td>\n",
       "      <td>5.0</td>\n",
       "      <td>1.0</td>\n",
       "      <td>81.0</td>\n",
       "      <td>19.0</td>\n",
       "      <td>0.0</td>\n",
       "      <td>0.0</td>\n",
       "      <td>Winter</td>\n",
       "    </tr>\n",
       "    <tr>\n",
       "      <th>17410</th>\n",
       "      <td>541</td>\n",
       "      <td>5.0</td>\n",
       "      <td>1.0</td>\n",
       "      <td>81.0</td>\n",
       "      <td>21.0</td>\n",
       "      <td>0.0</td>\n",
       "      <td>0.0</td>\n",
       "      <td>Winter</td>\n",
       "    </tr>\n",
       "    <tr>\n",
       "      <th>17411</th>\n",
       "      <td>337</td>\n",
       "      <td>5.5</td>\n",
       "      <td>1.5</td>\n",
       "      <td>78.5</td>\n",
       "      <td>24.0</td>\n",
       "      <td>0.0</td>\n",
       "      <td>0.0</td>\n",
       "      <td>Winter</td>\n",
       "    </tr>\n",
       "    <tr>\n",
       "      <th>17412</th>\n",
       "      <td>224</td>\n",
       "      <td>5.5</td>\n",
       "      <td>1.5</td>\n",
       "      <td>76.0</td>\n",
       "      <td>23.0</td>\n",
       "      <td>0.0</td>\n",
       "      <td>0.0</td>\n",
       "      <td>Winter</td>\n",
       "    </tr>\n",
       "    <tr>\n",
       "      <th>17413</th>\n",
       "      <td>139</td>\n",
       "      <td>5.0</td>\n",
       "      <td>1.0</td>\n",
       "      <td>76.0</td>\n",
       "      <td>22.0</td>\n",
       "      <td>0.0</td>\n",
       "      <td>0.0</td>\n",
       "      <td>Winter</td>\n",
       "    </tr>\n",
       "  </tbody>\n",
       "</table>\n",
       "<p>17414 rows × 8 columns</p>\n",
       "</div>"
      ],
      "text/plain": [
       "        cnt   t1   t2    hum  wind_speed  is_holiday  is_weekend  season\n",
       "0       182  3.0  2.0   93.0         6.0         0.0         1.0  Winter\n",
       "1       138  3.0  2.5   93.0         5.0         0.0         1.0  Winter\n",
       "2       134  2.5  2.5   96.5         0.0         0.0         1.0  Winter\n",
       "3        72  2.0  2.0  100.0         0.0         0.0         1.0  Winter\n",
       "4        47  2.0  0.0   93.0         6.5         0.0         1.0  Winter\n",
       "...     ...  ...  ...    ...         ...         ...         ...     ...\n",
       "17409  1042  5.0  1.0   81.0        19.0         0.0         0.0  Winter\n",
       "17410   541  5.0  1.0   81.0        21.0         0.0         0.0  Winter\n",
       "17411   337  5.5  1.5   78.5        24.0         0.0         0.0  Winter\n",
       "17412   224  5.5  1.5   76.0        23.0         0.0         0.0  Winter\n",
       "17413   139  5.0  1.0   76.0        22.0         0.0         0.0  Winter\n",
       "\n",
       "[17414 rows x 8 columns]"
      ]
     },
     "execution_count": 188,
     "metadata": {},
     "output_type": "execute_result"
    }
   ],
   "source": [
    "predataframe1=dataframe.iloc [:, [1,2,3,4,5,7,8,9]]\n",
    "predataframe1"
   ]
  },
  {
   "cell_type": "markdown",
   "metadata": {},
   "source": [
    "Metodo que nos indica las categorias que tendremos"
   ]
  },
  {
   "cell_type": "code",
   "execution_count": 189,
   "metadata": {},
   "outputs": [
    {
     "data": {
      "text/plain": [
       "array(['Winter', 'Spring', 'Summer', 'Fall'], dtype=object)"
      ]
     },
     "execution_count": 189,
     "metadata": {},
     "output_type": "execute_result"
    }
   ],
   "source": [
    "dataframe['season'].unique()"
   ]
  },
  {
   "cell_type": "markdown",
   "metadata": {},
   "source": [
    "Seleccion de columnas objetivo"
   ]
  },
  {
   "cell_type": "code",
   "execution_count": 190,
   "metadata": {},
   "outputs": [],
   "source": [
    "y = predataframe1['season']\n",
    "X = predataframe1.drop('season', axis=1)"
   ]
  },
  {
   "cell_type": "markdown",
   "metadata": {},
   "source": [
    "Librerias necesarias para separar los datos de prueba y entrenamiento"
   ]
  },
  {
   "cell_type": "code",
   "execution_count": 191,
   "metadata": {},
   "outputs": [],
   "source": [
    "from sklearn.model_selection import train_test_split"
   ]
  },
  {
   "cell_type": "markdown",
   "metadata": {},
   "source": [
    "Declaracion de los datos de prueba y entrenamiento, separados de la forma\n",
    "- 80% entrenamiento\n",
    "- 20% pruebas\n",
    "\n",
    "Con una semilla de 45 para seleccionar los datos aleatoriamente"
   ]
  },
  {
   "cell_type": "code",
   "execution_count": 192,
   "metadata": {},
   "outputs": [],
   "source": [
    "X_train, X_test, y_train, y_test = train_test_split(X, y, test_size=0.2, random_state=45)"
   ]
  },
  {
   "cell_type": "markdown",
   "metadata": {},
   "source": [
    "Declaracion de librerias necesarias para realizar la clasificacion con el algoritmo de vecinos mas cercanos, partiendo con una K de 1"
   ]
  },
  {
   "cell_type": "code",
   "execution_count": 193,
   "metadata": {},
   "outputs": [],
   "source": [
    "from sklearn.neighbors import KNeighborsClassifier\n",
    "knn= KNeighborsClassifier(n_neighbors=1)"
   ]
  },
  {
   "cell_type": "markdown",
   "metadata": {},
   "source": [
    "Entrenamiento del modelo"
   ]
  },
  {
   "cell_type": "code",
   "execution_count": 194,
   "metadata": {},
   "outputs": [
    {
     "data": {
      "text/plain": [
       "KNeighborsClassifier(n_neighbors=1)"
      ]
     },
     "execution_count": 194,
     "metadata": {},
     "output_type": "execute_result"
    }
   ],
   "source": [
    "knn.fit(X_train, y_train)"
   ]
  },
  {
   "cell_type": "markdown",
   "metadata": {},
   "source": [
    "Guardar las predicciones en una variable para poder compararla"
   ]
  },
  {
   "cell_type": "code",
   "execution_count": 195,
   "metadata": {},
   "outputs": [],
   "source": [
    "predicciones= knn.predict(X_test)"
   ]
  },
  {
   "cell_type": "markdown",
   "metadata": {},
   "source": [
    "Importacion de librerias para las metricas del modelo como la matriz de confusion y el reporte de precision del modelo por categoria"
   ]
  },
  {
   "cell_type": "code",
   "execution_count": 196,
   "metadata": {},
   "outputs": [
    {
     "name": "stdout",
     "output_type": "stream",
     "text": [
      "[[347 170 182 157]\n",
      " [185 383 121 203]\n",
      " [193 113 531  43]\n",
      " [161 211  51 432]]\n"
     ]
    }
   ],
   "source": [
    "from sklearn.metrics import classification_report, confusion_matrix\n",
    "print(confusion_matrix(y_test, predicciones))"
   ]
  },
  {
   "cell_type": "code",
   "execution_count": 197,
   "metadata": {},
   "outputs": [
    {
     "name": "stdout",
     "output_type": "stream",
     "text": [
      "              precision    recall  f1-score   support\n",
      "\n",
      "        Fall       0.39      0.41      0.40       856\n",
      "      Spring       0.44      0.43      0.43       892\n",
      "      Summer       0.60      0.60      0.60       880\n",
      "      Winter       0.52      0.51      0.51       855\n",
      "\n",
      "    accuracy                           0.49      3483\n",
      "   macro avg       0.49      0.49      0.49      3483\n",
      "weighted avg       0.49      0.49      0.49      3483\n",
      "\n"
     ]
    }
   ],
   "source": [
    "print(classification_report(y_test, predicciones))"
   ]
  },
  {
   "cell_type": "markdown",
   "metadata": {},
   "source": [
    "Obtencion de la precision del modelo"
   ]
  },
  {
   "cell_type": "code",
   "execution_count": 198,
   "metadata": {},
   "outputs": [
    {
     "data": {
      "text/plain": [
       "0.48607522250933105"
      ]
     },
     "execution_count": 198,
     "metadata": {},
     "output_type": "execute_result"
    }
   ],
   "source": [
    "knn.score(X_test, y_test)"
   ]
  },
  {
   "cell_type": "markdown",
   "metadata": {},
   "source": [
    "Segun el concepto de Cluster Jerarquico se emplea el metodo de \"Nombre del autor del video 1 \" que se basa en obtener la tasa de error al seleccionar las k, por lo que se implemento ese algoritmo en el siguiente bucle; donde se guardan las tasas de error para las K desde 1 hasta 30 "
   ]
  },
  {
   "cell_type": "code",
   "execution_count": 199,
   "metadata": {},
   "outputs": [],
   "source": [
    "tasa_error =[]\n",
    "for i in range(1,30):\n",
    "    knn=KNeighborsClassifier(n_neighbors=i)\n",
    "    knn.fit(X_train, y_train)\n",
    "    prediccion_i=knn.predict(X_test)\n",
    "    tasa_error.append(np.mean(prediccion_i !=y_test))"
   ]
  },
  {
   "cell_type": "code",
   "execution_count": 200,
   "metadata": {},
   "outputs": [
    {
     "data": {
      "text/plain": [
       "[0.513924777490669,\n",
       " 0.5595750789549239,\n",
       " 0.5027275337352857,\n",
       " 0.5012919896640827,\n",
       " 0.4877978753947746,\n",
       " 0.48262991673844385,\n",
       " 0.48262991673844385,\n",
       " 0.48693654895205285,\n",
       " 0.4803330462245191,\n",
       " 0.48262991673844385,\n",
       " 0.4788975021533161,\n",
       " 0.4800459374102785,\n",
       " 0.472581108240023,\n",
       " 0.47401665231122597,\n",
       " 0.4760264140109101,\n",
       " 0.4774619580821131,\n",
       " 0.4809072638530003,\n",
       " 0.4780361757105943,\n",
       " 0.47430376112546657,\n",
       " 0.4760264140109101,\n",
       " 0.47459086993970717,\n",
       " 0.4731553258685042,\n",
       " 0.4788975021533161,\n",
       " 0.4783232845248349,\n",
       " 0.48406546080964685,\n",
       " 0.48406546080964685,\n",
       " 0.48349124318116565,\n",
       " 0.48693654895205285,\n",
       " 0.4892334194659776]"
      ]
     },
     "execution_count": 200,
     "metadata": {},
     "output_type": "execute_result"
    }
   ],
   "source": [
    "tasa_error"
   ]
  },
  {
   "cell_type": "markdown",
   "metadata": {},
   "source": [
    "Para una mejor visualizacion de las tasas de error se realizo el siguiente grafico donde el objetivo es obtener la tasa de error mas baja"
   ]
  },
  {
   "cell_type": "code",
   "execution_count": 212,
   "metadata": {},
   "outputs": [
    {
     "data": {
      "text/plain": [
       "[<matplotlib.lines.Line2D at 0x1ce72ffb3d0>]"
      ]
     },
     "execution_count": 212,
     "metadata": {},
     "output_type": "execute_result"
    },
    {
     "data": {
      "image/png": "[encoded data removed]",
      "text/plain": [
       "<Figure size 432x288 with 1 Axes>"
      ]
     },
     "metadata": {},
     "output_type": "display_data"
    }
   ],
   "source": [
    "valores = range(1,30)\n",
    "plt.plot(valores, tasa_error, color='blue', marker='o', markerfacecolor='red', markersize=8)"
   ]
  },
  {
   "cell_type": "markdown",
   "metadata": {},
   "source": [
    "Como se puede observar en una K=13 es la tasa de error mas baja por lo que se toma esa k para que el modelo tenga mayor precision"
   ]
  },
  {
   "cell_type": "code",
   "execution_count": 202,
   "metadata": {},
   "outputs": [
    {
     "name": "stdout",
     "output_type": "stream",
     "text": [
      "              precision    recall  f1-score   support\n",
      "\n",
      "        Fall       0.42      0.49      0.45       856\n",
      "      Spring       0.48      0.42      0.45       892\n",
      "      Summer       0.62      0.68      0.65       880\n",
      "      Winter       0.59      0.52      0.55       855\n",
      "\n",
      "    accuracy                           0.53      3483\n",
      "   macro avg       0.53      0.53      0.53      3483\n",
      "weighted avg       0.53      0.53      0.53      3483\n",
      "\n"
     ]
    }
   ],
   "source": [
    "knn= KNeighborsClassifier(n_neighbors=13)\n",
    "knn.fit(X_train, y_train)\n",
    "predicciones= knn.predict(X_test)\n",
    "print(classification_report(y_test, predicciones))"
   ]
  },
  {
   "cell_type": "markdown",
   "metadata": {},
   "source": [
    "Como se puede observar la precison del modelo incremento gracias a la implementacion de las tasas de error"
   ]
  },
  {
   "cell_type": "code",
   "execution_count": 203,
   "metadata": {},
   "outputs": [
    {
     "data": {
      "text/plain": [
       "0.527418891759977"
      ]
     },
     "execution_count": 203,
     "metadata": {},
     "output_type": "execute_result"
    }
   ],
   "source": [
    "knn.score(X_test, y_test)"
   ]
  }
 ],
 "metadata": {
  "kernelspec": {
   "display_name": "Python 3",
   "language": "python",
   "name": "python3"
  },
  "language_info": {
   "codemirror_mode": {
    "name": "ipython",
    "version": 3
   },
   "file_extension": ".py",
   "mimetype": "text/x-python",
   "name": "python",
   "nbconvert_exporter": "python",
   "pygments_lexer": "ipython3",
   "version": "3.8.3"
  }
 },
 "nbformat": 4,
 "nbformat_minor": 4
}
